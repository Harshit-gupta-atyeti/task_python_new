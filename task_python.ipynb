{
 "cells": [
  {
   "cell_type": "markdown",
   "id": "30503561-4e61-4117-a042-b4e510deee0f",
   "metadata": {},
   "source": [
    "1. Decorators and closures are related because decorators use closures to remember the state of a function. A decorator is a function that takes another function as an argument and returns a new function, often modifying the behavior of the original one. Closures are used to \"remember\" the original function and its environment.\n",
    "A decorator cannot be implemented without using closures, because the decorator needs to wrap the original function, and closures are what allow the new function to access the original function's scope."
   ]
  },
  {
   "cell_type": "code",
   "execution_count": 90,
   "id": "4006d6c3-3b70-4016-955d-0da7814c4815",
   "metadata": {},
   "outputs": [
    {
     "name": "stdout",
     "output_type": "stream",
     "text": [
      "Before\n",
      "Hello!\n",
      "After\n"
     ]
    }
   ],
   "source": [
    "class MyDecorator:\n",
    "    def __init__(self, func):\n",
    "        self.func = func  # We store the function to be decorated\n",
    "    def __call__(self):\n",
    "        print(\"Before\")\n",
    "        self.func()\n",
    "        print(\"After\")\n",
    " \n",
    "@MyDecorator\n",
    "def say_hello():\n",
    "    print(\"Hello!\")\n",
    " \n",
    "say_hello() #calling the function"
   ]
  },
  {
   "cell_type": "code",
   "execution_count": 108,
   "id": "b539692e-3c40-4165-90a2-f7cd83d363f0",
   "metadata": {},
   "outputs": [
    {
     "name": "stdout",
     "output_type": "stream",
     "text": [
      "1:\n",
      "Hello, Harshit\n",
      "2:\n",
      "Hello, Harshit\n",
      "3:\n",
      "Hello, Harshit\n"
     ]
    }
   ],
   "source": [
    "#2. How do you create a parameterized decorator? Write a decorator that takes an argument specifying how many times to retry a function upon failure.\n",
    "def repeat(times):\n",
    "    def decorator(func):\n",
    "        def wrapper(*args, **kwargs):\n",
    "            for i in range(times):\n",
    "                print(f\"{i + 1}:\")\n",
    "                func(*args, **kwargs)\n",
    "        return wrapper\n",
    "    return decorator\n",
    " \n",
    "@repeat(3)\n",
    "def say_hello(name):\n",
    "    print(f\"Hello, {name}\")\n",
    " \n",
    "# Testing the function\n",
    "say_hello(\"Harshit\")"
   ]
  },
  {
   "cell_type": "code",
   "execution_count": 94,
   "id": "5810d965-64c0-43b5-9f8b-db23bd20d3e5",
   "metadata": {},
   "outputs": [
    {
     "name": "stdout",
     "output_type": "stream",
     "text": [
      "added extra cheese\n",
      "Here is your food\n"
     ]
    }
   ],
   "source": [
    "#3. Write a simple decorator that prints the execution of a function.\n",
    "def add_cheese(func):\n",
    "    def wrapper():\n",
    "        print(\"added extra cheese\")\n",
    "        func()\n",
    "    return wrapper\n",
    "\n",
    "@add_cheese\n",
    "def food():\n",
    "    print(\"Here is your food\")\n",
    "food()  #calling the function"
   ]
  },
  {
   "cell_type": "code",
   "execution_count": 96,
   "id": "e764f675-9322-43cb-94bd-5c5f9a3db085",
   "metadata": {},
   "outputs": [
    {
     "name": "stdout",
     "output_type": "stream",
     "text": [
      "Hello has been called 1 times\n",
      "Hello\n"
     ]
    }
   ],
   "source": [
    "#4. Create a decorator call_counter that tracks how many times a function is called. Use it with a function say_hello that prints \"Hello!\".\n",
    "def call_counter(func):\n",
    "    def wrapper(*args, **kwargs):\n",
    "        wrapper.count += 1       #adding the number of count\n",
    "        print(f\"Hello has been called {wrapper.count} times\")\n",
    "        return func(*args, **kwargs)\n",
    "    wrapper.count = 0\n",
    "    return wrapper\n",
    "\n",
    "@call_counter\n",
    "def hello():\n",
    "    print(\"Hello\")\n",
    "\n",
    "hello()  #calling the function\n"
   ]
  },
  {
   "cell_type": "code",
   "execution_count": 98,
   "id": "5f3fdeb3-7d72-4149-bb52-f3a5c6434003",
   "metadata": {},
   "outputs": [
    {
     "name": "stdout",
     "output_type": "stream",
     "text": [
      "6\n"
     ]
    }
   ],
   "source": [
    "#5. Write a decorator double_result that doubles the result of the decorated function. Use it with a function add that adds two numbers.\n",
    "def double_result(func):\n",
    "    def wrapper(*args, **kwargs):\n",
    "        result = func(*args, **kwargs)\n",
    "        return result * 2     #doubles the result of the decorated function\n",
    "    return wrapper\n",
    "\n",
    "@double_result\n",
    "def add(a,b):\n",
    "    return a + b\n",
    "print(add(1,2))  #calling and printing the function"
   ]
  },
  {
   "cell_type": "code",
   "execution_count": 106,
   "id": "0b69c773-3017-4d7b-b4a5-fc4bc86cd052",
   "metadata": {},
   "outputs": [
    {
     "name": "stdout",
     "output_type": "stream",
     "text": [
      "added extra cheese\n",
      "added extra amul cream\n",
      "Here is your food \n"
     ]
    }
   ],
   "source": [
    "#6. What happens when multiple decorators are applied to a single function?\n",
    "# When multiple decorators are applied to a single function, they are executed from the innermost to the outermost.The last decorator applied is the first to run.\n",
    "def add_cheese(func):\n",
    "    def wrapper():\n",
    "        print(\"added extra cheese\")\n",
    "        func()\n",
    "    return wrapper\n",
    "\n",
    "def add_cream(func1):\n",
    "    def wrapper1():\n",
    "        print(\"added extra amul cream\")\n",
    "        func1()\n",
    "    return wrapper1\n",
    "@add_cheese    \n",
    "@add_cream\n",
    "def food():\n",
    "    print(\"Here is your food \")\n",
    "food()\n"
   ]
  },
  {
   "cell_type": "markdown",
   "id": "59528e3b-9d36-4752-9222-a8f1494bfc1c",
   "metadata": {},
   "source": [
    "7.  What are some common use cases for decorators?\n",
    "\n",
    "\n",
    "Common Use Cases for Decorators:\n",
    "\n",
    "\n",
    "Logging: To log function calls and their outputs.\n",
    "\n",
    "Authentication: To check if a user is logged in before accessing a function.\n",
    "\n",
    "Memoization: To store results of expensive function calls for reuse.\n",
    "\n",
    "Timing: To measure the execution time of functions."
   ]
  },
  {
   "cell_type": "code",
   "execution_count": null,
   "id": "ca670ef5-621d-4a88-aa7a-8efda48af7af",
   "metadata": {},
   "outputs": [],
   "source": []
  }
 ],
 "metadata": {
  "kernelspec": {
   "display_name": "Python 3 (ipykernel)",
   "language": "python",
   "name": "python3"
  },
  "language_info": {
   "codemirror_mode": {
    "name": "ipython",
    "version": 3
   },
   "file_extension": ".py",
   "mimetype": "text/x-python",
   "name": "python",
   "nbconvert_exporter": "python",
   "pygments_lexer": "ipython3",
   "version": "3.12.4"
  }
 },
 "nbformat": 4,
 "nbformat_minor": 5
}
